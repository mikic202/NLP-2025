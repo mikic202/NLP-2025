{
 "cells": [
  {
   "cell_type": "markdown",
   "metadata": {},
   "source": [
    "# BERT model - text sentiment analyzer"
   ]
  },
  {
   "cell_type": "code",
   "execution_count": 176,
   "metadata": {},
   "outputs": [],
   "source": [
    "from transformers import (\n",
    "    BertTokenizer, BertForSequenceClassification,\n",
    "    RobertaTokenizer, RobertaForSequenceClassification,\n",
    "    DistilBertTokenizer, DistilBertForSequenceClassification\n",
    ")\n",
    "from torch.nn import CrossEntropyLoss\n",
    "from torch.utils.data import DataLoader\n",
    "import matplotlib.pyplot as plt\n",
    "from torch.nn.utils.rnn import pad_sequence\n",
    "import torch\n",
    "from utils.text_datasets import get_basic_tweet_sentiment_dataset, get_poem_sentiment_dataset, get_advanced_tweet_sentiment_dataset_only_text\n",
    "import tqdm\n",
    "from sklearn.model_selection import train_test_split\n",
    "from utils.metrics import get_metrics, display_clasification_metrics"
   ]
  },
  {
   "cell_type": "code",
   "execution_count": 177,
   "metadata": {},
   "outputs": [],
   "source": [
    "device = torch.device(\"cuda\" if torch.cuda.is_available() else \"cpu\")"
   ]
  },
  {
   "cell_type": "markdown",
   "metadata": {},
   "source": [
    "## Parameters"
   ]
  },
  {
   "cell_type": "code",
   "execution_count": 178,
   "metadata": {},
   "outputs": [],
   "source": [
    "params = {\"train_size\":0.9,\n",
    "\"bert_unfrozen_layers\":12,\n",
    "\"batch_size\":16,\n",
    "\"epochs\":10,\n",
    "\"learning_rate\":2e-5,\n",
    "\"class_num\":4,\n",
    "\"max_length_token\":128,\n",
    "\"model_bert\":\"bert-base-uncased\"}\n",
    "# \"model_bert\":\"roberta-base\"}\n",
    "# \"model_bert\":\"distilbert-base-uncased\"}"
   ]
  },
  {
   "cell_type": "markdown",
   "metadata": {},
   "source": [
    "## Tokenizer Setup"
   ]
  },
  {
   "cell_type": "code",
   "execution_count": 179,
   "metadata": {},
   "outputs": [],
   "source": [
    "tokenizer = BertTokenizer.from_pretrained(params[\"model_bert\"])"
   ]
  },
  {
   "cell_type": "code",
   "execution_count": 162,
   "metadata": {},
   "outputs": [],
   "source": [
    "tokenizer = RobertaTokenizer.from_pretrained(params[\"model_bert\"])"
   ]
  },
  {
   "cell_type": "code",
   "execution_count": null,
   "metadata": {},
   "outputs": [],
   "source": [
    "tokenizer = DistilBertTokenizer.from_pretrained(params[\"model_bert\"])"
   ]
  },
  {
   "cell_type": "code",
   "execution_count": 180,
   "metadata": {},
   "outputs": [],
   "source": [
    "def tokenize_function_bert(text):\n",
    "    encoding = tokenizer(\n",
    "        text,\n",
    "        padding=False,\n",
    "        truncation=True,\n",
    "        max_length=params[\"max_length_token\"],\n",
    "        return_tensors=None\n",
    "    )\n",
    "    return torch.tensor(encoding[\"input_ids\"])\n",
    "\n",
    "\n",
    "def pad_collate_bert(batch):\n",
    "    input_ids, labels = zip(*batch)\n",
    "    attention_masks = []\n",
    "\n",
    "    padded_input_ids = pad_sequence(input_ids, batch_first=True, padding_value=tokenizer.pad_token_id)\n",
    "    for ids in input_ids:\n",
    "        mask = torch.ones(len(ids), dtype=torch.long)\n",
    "        attention_masks.append(mask)\n",
    "    padded_attention_mask = pad_sequence(attention_masks, batch_first=True, padding_value=0)\n",
    "    \n",
    "    return {\n",
    "        \"input_ids\": padded_input_ids,\n",
    "        \"attention_mask\": padded_attention_mask,\n",
    "        \"labels\": torch.tensor(labels)\n",
    "    }"
   ]
  },
  {
   "cell_type": "markdown",
   "metadata": {},
   "source": [
    "## Data Preparation"
   ]
  },
  {
   "cell_type": "code",
   "execution_count": 182,
   "metadata": {},
   "outputs": [],
   "source": [
    "train_dataset, validation_dataset, test_dataset = get_poem_sentiment_dataset(tokenize_function_bert)"
   ]
  },
  {
   "cell_type": "code",
   "execution_count": 166,
   "metadata": {},
   "outputs": [],
   "source": [
    "train_dataset, test_dataset = get_basic_tweet_sentiment_dataset(tokenize_function_bert)\n",
    "train_dataset, validation_dataset = train_test_split(\n",
    "    train_dataset, train_size=params[\"train_size\"], shuffle=True\n",
    ")"
   ]
  },
  {
   "cell_type": "code",
   "execution_count": null,
   "metadata": {},
   "outputs": [],
   "source": [
    "train_dataset, test_dataset = get_advanced_tweet_sentiment_dataset_only_text(tokenize_function_bert)\n",
    "train_dataset, validation_dataset = train_test_split(\n",
    "    train_dataset, train_size=params[\"train_size\"], shuffle=True\n",
    ")"
   ]
  },
  {
   "cell_type": "code",
   "execution_count": 183,
   "metadata": {},
   "outputs": [],
   "source": [
    "class_num = params[\"class_num\"]\n",
    "dataset_labels = list(range(class_num))"
   ]
  },
  {
   "cell_type": "code",
   "execution_count": 184,
   "metadata": {},
   "outputs": [],
   "source": [
    "train_loader = DataLoader(train_dataset, batch_size=params[\"batch_size\"], shuffle=True, collate_fn=pad_collate_bert)\n",
    "validation_loader = DataLoader(validation_dataset, batch_size=params[\"batch_size\"], shuffle=False, collate_fn=pad_collate_bert)\n",
    "test_loader = DataLoader(test_dataset, batch_size=params[\"batch_size\"], shuffle=False, collate_fn=pad_collate_bert)"
   ]
  },
  {
   "cell_type": "code",
   "execution_count": 185,
   "metadata": {},
   "outputs": [],
   "source": [
    "def freeze_transformer_layers(model, num_unfrozen_layers):\n",
    "    if hasattr(model, 'bert'):\n",
    "        encoder_layers = model.bert.encoder.layer\n",
    "    elif hasattr(model, 'roberta'):\n",
    "        encoder_layers = model.roberta.encoder.layer\n",
    "    elif hasattr(model, 'distilbert'):\n",
    "        encoder_layers = model.distilbert.transformer.layer\n",
    "    else:\n",
    "        raise ValueError(\"Model nie zawiera znanych bloków: 'bert', 'roberta', ani 'distilbert'.\")\n",
    "\n",
    "    total_layers = len(encoder_layers)\n",
    "\n",
    "    for i, layer in enumerate(encoder_layers):\n",
    "        if i < total_layers - num_unfrozen_layers:\n",
    "            for param in layer.parameters():\n",
    "                param.requires_grad = False\n",
    "\n",
    "    return model\n"
   ]
  },
  {
   "cell_type": "markdown",
   "metadata": {},
   "source": [
    "## Model"
   ]
  },
  {
   "cell_type": "code",
   "execution_count": 186,
   "metadata": {},
   "outputs": [
    {
     "name": "stderr",
     "output_type": "stream",
     "text": [
      "/home/dominika/.local/share/virtualenvs/app-LDMNNxfo/lib/python3.10/site-packages/huggingface_hub/file_download.py:943: FutureWarning: `resume_download` is deprecated and will be removed in version 1.0.0. Downloads always resume when possible. If you want to force a new download, use `force_download=True`.\n",
      "  warnings.warn(\n",
      "Some weights of BertForSequenceClassification were not initialized from the model checkpoint at bert-base-uncased and are newly initialized: ['classifier.bias', 'classifier.weight']\n",
      "You should probably TRAIN this model on a down-stream task to be able to use it for predictions and inference.\n"
     ]
    }
   ],
   "source": [
    "model = BertForSequenceClassification.from_pretrained(params[\"model_bert\"], num_labels=params[\"class_num\"]).to(device)"
   ]
  },
  {
   "cell_type": "code",
   "execution_count": 172,
   "metadata": {},
   "outputs": [],
   "source": [
    "model = RobertaForSequenceClassification.from_pretrained(params[\"model_bert\"], num_labels=params[\"class_num\"]).to(device)"
   ]
  },
  {
   "cell_type": "code",
   "execution_count": null,
   "metadata": {},
   "outputs": [],
   "source": [
    "model = DistilBertForSequenceClassification.from_pretrained(params[\"model_bert\"], num_labels=params[\"class_num\"]).to(device)"
   ]
  },
  {
   "cell_type": "code",
   "execution_count": 187,
   "metadata": {},
   "outputs": [],
   "source": [
    "model = freeze_transformer_layers(model, num_unfrozen_layers=params[\"bert_unfrozen_layers\"])\n",
    "\n",
    "optimizer = torch.optim.Adam(model.parameters(), lr=params[\"learning_rate\"])\n",
    "loss_fun = CrossEntropyLoss()"
   ]
  },
  {
   "cell_type": "markdown",
   "metadata": {},
   "source": [
    "## Training"
   ]
  },
  {
   "cell_type": "code",
   "execution_count": 188,
   "metadata": {},
   "outputs": [
    {
     "name": "stderr",
     "output_type": "stream",
     "text": [
      "Epoch:   0%|          | 0/10 [00:00<?, ?it/s]/home/dominika/Pulpit/NLP-2025/utils/text_datasets.py:22: UserWarning: To copy construct from a tensor, it is recommended to use sourceTensor.clone().detach() or sourceTensor.clone().detach().requires_grad_(True), rather than torch.tensor(sourceTensor).\n",
      "  return torch.tensor(self.tokinizer(self.text[idx])), torch.tensor(\n",
      "Epoch: 100%|██████████| 10/10 [13:45<00:00, 82.57s/it, Train loss=0.0103, Validation loss=0.495]\n"
     ]
    }
   ],
   "source": [
    "model.train()\n",
    "progress_bar = tqdm.tqdm(range(params[\"epochs\"]), desc=\"Epoch\")\n",
    "\n",
    "for epoch in progress_bar:\n",
    "    total_loss = 0\n",
    "    batches = 0\n",
    "    for batch in train_loader:\n",
    "        input_ids = batch[\"input_ids\"].to(device)\n",
    "        attention_mask = batch[\"attention_mask\"].to(device)\n",
    "        labels = batch[\"labels\"].to(device)\n",
    "        optimizer.zero_grad()\n",
    "        outputs = model(input_ids=input_ids, attention_mask=attention_mask, labels=labels)\n",
    "        loss = outputs.loss\n",
    "        loss.backward()\n",
    "        optimizer.step()\n",
    "\n",
    "        total_loss += loss.item()\n",
    "        batches += 1\n",
    "\n",
    "    model.eval()\n",
    "    with torch.no_grad():\n",
    "        val_loss = 0\n",
    "        val_batches = 0\n",
    "        for batch in validation_loader:\n",
    "            input_ids = batch[\"input_ids\"].to(device)\n",
    "            attention_mask = batch[\"attention_mask\"].to(device)\n",
    "            labels = batch[\"labels\"].to(device)\n",
    "\n",
    "            outputs = model(input_ids=input_ids, attention_mask=attention_mask, labels=labels)\n",
    "            val_loss += outputs.loss.item()\n",
    "            val_batches += 1\n",
    "\n",
    "    model.train()\n",
    "    progress_bar.set_postfix({\n",
    "        \"Train loss\": total_loss / batches,\n",
    "        \"Validation loss\": val_loss / val_batches\n",
    "    })"
   ]
  },
  {
   "cell_type": "markdown",
   "metadata": {},
   "source": [
    "## Measure model"
   ]
  },
  {
   "cell_type": "code",
   "execution_count": 189,
   "metadata": {},
   "outputs": [],
   "source": [
    "def measure_model(model, data_loader):\n",
    "    model.eval()\n",
    "    all_preds = []\n",
    "    all_labels = []\n",
    "    with torch.no_grad():\n",
    "        for batch in data_loader:\n",
    "            input_ids = batch[\"input_ids\"].to(device)\n",
    "            attention_mask = batch[\"attention_mask\"].to(device)\n",
    "            labels = batch[\"labels\"].to(device)\n",
    "\n",
    "            outputs = model(input_ids=input_ids, attention_mask=attention_mask)\n",
    "            preds = torch.argmax(outputs.logits, dim=1)\n",
    "\n",
    "            all_preds.extend(preds.cpu().numpy())\n",
    "            all_labels.extend(labels.cpu().numpy())\n",
    "\n",
    "    return all_labels, all_preds"
   ]
  },
  {
   "cell_type": "code",
   "execution_count": 191,
   "metadata": {},
   "outputs": [
    {
     "name": "stdout",
     "output_type": "stream",
     "text": [
      "Train set metrics\n"
     ]
    },
    {
     "name": "stderr",
     "output_type": "stream",
     "text": [
      "/home/dominika/Pulpit/NLP-2025/utils/text_datasets.py:22: UserWarning: To copy construct from a tensor, it is recommended to use sourceTensor.clone().detach() or sourceTensor.clone().detach().requires_grad_(True), rather than torch.tensor(sourceTensor).\n",
      "  return torch.tensor(self.tokinizer(self.text[idx])), torch.tensor(\n"
     ]
    },
    {
     "name": "stdout",
     "output_type": "stream",
     "text": [
      "F1 Score 1.0\n",
      "Accuracy 1.0\n",
      "Recall 1.0\n",
      "\n",
      "Validation set metrics\n"
     ]
    },
    {
     "name": "stderr",
     "output_type": "stream",
     "text": [
      "/home/dominika/Pulpit/NLP-2025/utils/text_datasets.py:22: UserWarning: To copy construct from a tensor, it is recommended to use sourceTensor.clone().detach() or sourceTensor.clone().detach().requires_grad_(True), rather than torch.tensor(sourceTensor).\n",
      "  return torch.tensor(self.tokinizer(self.text[idx])), torch.tensor(\n",
      "/home/dominika/.local/share/virtualenvs/app-LDMNNxfo/lib/python3.10/site-packages/sklearn/metrics/_classification.py:1471: UndefinedMetricWarning: Recall is ill-defined and being set to 0.0 in labels with no true samples. Use `zero_division` parameter to control this behavior.\n",
      "  _warn_prf(average, modifier, msg_start, len(result))\n"
     ]
    },
    {
     "name": "stdout",
     "output_type": "stream",
     "text": [
      "F1 Score 0.6258408408408409\n",
      "Accuracy 0.8857142857142857\n",
      "Recall 0.5877080809440481\n",
      "\n",
      "Test set metrics\n"
     ]
    },
    {
     "name": "stderr",
     "output_type": "stream",
     "text": [
      "/home/dominika/Pulpit/NLP-2025/utils/text_datasets.py:22: UserWarning: To copy construct from a tensor, it is recommended to use sourceTensor.clone().detach() or sourceTensor.clone().detach().requires_grad_(True), rather than torch.tensor(sourceTensor).\n",
      "  return torch.tensor(self.tokinizer(self.text[idx])), torch.tensor(\n"
     ]
    },
    {
     "name": "stdout",
     "output_type": "stream",
     "text": [
      "F1 Score 0.5944198953155002\n",
      "Accuracy 0.8365384615384616\n",
      "Recall 0.5782561022120518\n"
     ]
    },
    {
     "name": "stderr",
     "output_type": "stream",
     "text": [
      "/home/dominika/.local/share/virtualenvs/app-LDMNNxfo/lib/python3.10/site-packages/sklearn/metrics/_classification.py:1471: UndefinedMetricWarning: Recall is ill-defined and being set to 0.0 in labels with no true samples. Use `zero_division` parameter to control this behavior.\n",
      "  _warn_prf(average, modifier, msg_start, len(result))\n"
     ]
    },
    {
     "data": {
      "image/png": "[encoded data removed]",
      "text/plain": [
       "<Figure size 640x480 with 2 Axes>"
      ]
     },
     "metadata": {},
     "output_type": "display_data"
    },
    {
     "data": {
      "image/png": "[encoded data removed]",
      "text/plain": [
       "<Figure size 640x480 with 2 Axes>"
      ]
     },
     "metadata": {},
     "output_type": "display_data"
    },
    {
     "data": {
      "image/png": "[encoded data removed]",
      "text/plain": [
       "<Figure size 640x480 with 2 Axes>"
      ]
     },
     "metadata": {},
     "output_type": "display_data"
    }
   ],
   "source": [
    "print(\"Train set metrics\")\n",
    "train_labels, train_preds = measure_model(model, train_loader)\n",
    "train_preds_tensor = torch.tensor(train_preds)\n",
    "train_labels_tensor = torch.tensor(train_labels)\n",
    "\n",
    "display_clasification_metrics(train_preds_tensor, train_labels_tensor, labels=dataset_labels)\n",
    "plt.figure()\n",
    "\n",
    "print(\"\\nValidation set metrics\")\n",
    "val_labels, val_preds = measure_model(model, validation_loader)\n",
    "val_preds_tensor = torch.tensor(val_preds)\n",
    "val_labels_tensor = torch.tensor(val_labels)\n",
    "\n",
    "display_clasification_metrics(val_preds_tensor, val_labels_tensor, labels=dataset_labels)\n",
    "plt.figure()\n",
    "\n",
    "print(\"\\nTest set metrics\")\n",
    "test_labels, test_preds = measure_model(model, test_loader)\n",
    "test_preds_tensor = torch.tensor(test_preds)\n",
    "test_labels_tensor = torch.tensor(test_labels)\n",
    "\n",
    "display_clasification_metrics(test_preds_tensor, test_labels_tensor, labels=dataset_labels)"
   ]
  }
 ],
 "metadata": {
  "kernelspec": {
   "display_name": "Python (venv)",
   "language": "python",
   "name": "venv"
  },
  "language_info": {
   "codemirror_mode": {
    "name": "ipython",
    "version": 3
   },
   "file_extension": ".py",
   "mimetype": "text/x-python",
   "name": "python",
   "nbconvert_exporter": "python",
   "pygments_lexer": "ipython3",
   "version": "3.12.3"
  }
 },
 "nbformat": 4,
 "nbformat_minor": 2
}
