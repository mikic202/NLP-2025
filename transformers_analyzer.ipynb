{
 "cells": [
  {
   "cell_type": "markdown",
   "metadata": {},
   "source": [
    "# BERT models"
   ]
  },
  {
   "cell_type": "code",
   "execution_count": 1,
   "metadata": {},
   "outputs": [
    {
     "name": "stderr",
     "output_type": "stream",
     "text": [
      "/home/bartek/mimi/NLP-2025-main/venv/lib/python3.12/site-packages/tqdm/auto.py:21: TqdmWarning: IProgress not found. Please update jupyter and ipywidgets. See https://ipywidgets.readthedocs.io/en/stable/user_install.html\n",
      "  from .autonotebook import tqdm as notebook_tqdm\n"
     ]
    }
   ],
   "source": [
    "from transformers import BertTokenizer, BertForSequenceClassification\n",
    "from torch.nn import CrossEntropyLoss\n",
    "from torch.utils.data import DataLoader\n",
    "import matplotlib.pyplot as plt\n",
    "from torch.nn.utils.rnn import pad_sequence\n",
    "import torch\n",
    "from utils.text_datasets import get_basic_tweet_sentiment_dataset, get_poem_sentiment_dataset, get_advanced_tweet_sentiment_dataset_only_text\n",
    "import tqdm\n",
    "from sklearn.model_selection import train_test_split\n",
    "from utils.metrics import get_metrics, display_clasification_metrics"
   ]
  },
  {
   "cell_type": "code",
   "execution_count": 2,
   "metadata": {},
   "outputs": [],
   "source": [
    "device = torch.device(\"cuda\" if torch.cuda.is_available() else \"cpu\")"
   ]
  },
  {
   "cell_type": "code",
   "execution_count": 3,
   "metadata": {},
   "outputs": [],
   "source": [
    "params = {\"train_size\":0.9,\n",
    "\"bert_unfrozen_layers\":6,\n",
    "\"batch_size\":64,\n",
    "\"epochs\":3,\n",
    "\"learning_rate\":2e-5,\n",
    "\"class_num\":5,\n",
    "\"max_length_token\":128,\n",
    "\"model_bert\":\"bert-base-uncased\"}"
   ]
  },
  {
   "cell_type": "code",
   "execution_count": 4,
   "metadata": {},
   "outputs": [],
   "source": [
    "tokenizer = BertTokenizer.from_pretrained(params[\"model_bert\"])"
   ]
  },
  {
   "cell_type": "code",
   "execution_count": 5,
   "metadata": {},
   "outputs": [],
   "source": [
    "def tokenize_function_bert(text):\n",
    "    encoding = tokenizer(\n",
    "        text,\n",
    "        padding=False,\n",
    "        truncation=True,\n",
    "        max_length=params[\"max_length_token\"],\n",
    "        return_tensors=None\n",
    "    )\n",
    "    return torch.tensor(encoding[\"input_ids\"])\n",
    "\n",
    "\n",
    "def pad_collate_bert(batch):\n",
    "    input_ids, labels = zip(*batch)\n",
    "    attention_masks = []\n",
    "\n",
    "    padded_input_ids = pad_sequence(input_ids, batch_first=True, padding_value=tokenizer.pad_token_id)\n",
    "    for ids in input_ids:\n",
    "        mask = torch.ones(len(ids), dtype=torch.long)\n",
    "        attention_masks.append(mask)\n",
    "    padded_attention_mask = pad_sequence(attention_masks, batch_first=True, padding_value=0)\n",
    "    \n",
    "    return {\n",
    "        \"input_ids\": padded_input_ids,\n",
    "        \"attention_mask\": padded_attention_mask,\n",
    "        \"labels\": torch.tensor(labels)\n",
    "    }"
   ]
  },
  {
   "cell_type": "code",
   "execution_count": 6,
   "metadata": {},
   "outputs": [],
   "source": [
    "# train_dataset, validation_dataset, test_dataset = get_poem_sentiment_dataset(tokenize_function_bert)"
   ]
  },
  {
   "cell_type": "code",
   "execution_count": 7,
   "metadata": {},
   "outputs": [
    {
     "name": "stderr",
     "output_type": "stream",
     "text": [
      "/home/bartek/mimi/NLP-2025-main/utils/text_datasets.py:22: UserWarning: To copy construct from a tensor, it is recommended to use sourceTensor.detach().clone() or sourceTensor.detach().clone().requires_grad_(True), rather than torch.tensor(sourceTensor).\n",
      "  return torch.tensor(self.tokinizer(self.text[idx])), torch.tensor(\n"
     ]
    }
   ],
   "source": [
    "train_dataset, test_dataset = get_basic_tweet_sentiment_dataset(tokenize_function_bert)\n",
    "train_dataset, validation_dataset = train_test_split(\n",
    "    train_dataset, train_size=params[\"train_size\"], shuffle=True\n",
    ")"
   ]
  },
  {
   "cell_type": "code",
   "execution_count": 8,
   "metadata": {},
   "outputs": [],
   "source": [
    "# train_dataset, test_dataset = get_advanced_tweet_sentiment_dataset_only_text(tokenize_function_bert)\n",
    "# train_dataset, validation_dataset = train_test_split(\n",
    "#     train_dataset, train_size=params[\"train_size\"], shuffle=True\n",
    "# )"
   ]
  },
  {
   "cell_type": "code",
   "execution_count": 9,
   "metadata": {},
   "outputs": [],
   "source": [
    "class_num = params[\"class_num\"]\n",
    "dataset_labels = list(range(class_num))\n",
    "dataset_labels = [0, 2, 4]"
   ]
  },
  {
   "cell_type": "code",
   "execution_count": 10,
   "metadata": {},
   "outputs": [],
   "source": [
    "train_loader = DataLoader(train_dataset, batch_size=params[\"batch_size\"], shuffle=True, collate_fn=pad_collate_bert)\n",
    "validation_loader = DataLoader(validation_dataset, batch_size=params[\"batch_size\"], shuffle=False, collate_fn=pad_collate_bert)\n",
    "test_loader = DataLoader(test_dataset, batch_size=params[\"batch_size\"], shuffle=False, collate_fn=pad_collate_bert)"
   ]
  },
  {
   "cell_type": "code",
   "execution_count": 11,
   "metadata": {},
   "outputs": [],
   "source": [
    "def freeze_bert_layers(model, num_unfrozen_layers):\n",
    "    total_layers = len(model.bert.encoder.layer)\n",
    "    for i, layer in enumerate(model.bert.encoder.layer):\n",
    "        if i < total_layers - num_unfrozen_layers:\n",
    "            for param in layer.parameters():\n",
    "                param.requires_grad = False\n",
    "    return model"
   ]
  },
  {
   "cell_type": "code",
   "execution_count": 12,
   "metadata": {},
   "outputs": [
    {
     "name": "stderr",
     "output_type": "stream",
     "text": [
      "Some weights of BertForSequenceClassification were not initialized from the model checkpoint at bert-base-uncased and are newly initialized: ['classifier.bias', 'classifier.weight']\n",
      "You should probably TRAIN this model on a down-stream task to be able to use it for predictions and inference.\n"
     ]
    }
   ],
   "source": [
    "model = BertForSequenceClassification.from_pretrained(params[\"model_bert\"], num_labels=params[\"class_num\"]).to(device)\n",
    "model = freeze_bert_layers(model, num_unfrozen_layers=params[\"bert_unfrozen_layers\"])\n",
    "\n",
    "optimizer = torch.optim.Adam(model.parameters(), lr=params[\"learning_rate\"])\n",
    "loss_fun = CrossEntropyLoss()"
   ]
  },
  {
   "cell_type": "code",
   "execution_count": null,
   "metadata": {},
   "outputs": [
    {
     "name": "stderr",
     "output_type": "stream",
     "text": [
      "Epoch:  33%|███▎      | 1/3 [45:31<1:31:03, 2731.78s/it, Train loss=0.334, Validation loss=0.305]"
     ]
    }
   ],
   "source": [
    "model.train()\n",
    "progress_bar = tqdm.tqdm(range(params[\"epochs\"]), desc=\"Epoch\")\n",
    "\n",
    "for epoch in progress_bar:\n",
    "    total_loss = 0\n",
    "    batches = 0\n",
    "    for batch in train_loader:\n",
    "        input_ids = batch[\"input_ids\"].to(device)\n",
    "        attention_mask = batch[\"attention_mask\"].to(device)\n",
    "        labels = batch[\"labels\"].to(device)\n",
    "        optimizer.zero_grad()\n",
    "        outputs = model(input_ids=input_ids, attention_mask=attention_mask, labels=labels)\n",
    "        loss = outputs.loss\n",
    "        loss.backward()\n",
    "        optimizer.step()\n",
    "\n",
    "        total_loss += loss.item()\n",
    "        batches += 1\n",
    "\n",
    "    model.eval()\n",
    "    with torch.no_grad():\n",
    "        val_loss = 0\n",
    "        val_batches = 0\n",
    "        for batch in validation_loader:\n",
    "            input_ids = batch[\"input_ids\"].to(device)\n",
    "            attention_mask = batch[\"attention_mask\"].to(device)\n",
    "            labels = batch[\"labels\"].to(device)\n",
    "\n",
    "            outputs = model(input_ids=input_ids, attention_mask=attention_mask, labels=labels)\n",
    "            val_loss += outputs.loss.item()\n",
    "            val_batches += 1\n",
    "\n",
    "    model.train()\n",
    "    progress_bar.set_postfix({\n",
    "        \"Train loss\": total_loss / batches,\n",
    "        \"Validation loss\": val_loss / val_batches\n",
    "    })"
   ]
  },
  {
   "cell_type": "code",
   "execution_count": null,
   "metadata": {},
   "outputs": [],
   "source": [
    "def measure_model(model, data_loader):\n",
    "    model.eval()\n",
    "    all_preds = []\n",
    "    all_labels = []\n",
    "    with torch.no_grad():\n",
    "        for batch in data_loader:\n",
    "            input_ids = batch[\"input_ids\"].to(device)\n",
    "            attention_mask = batch[\"attention_mask\"].to(device)\n",
    "            labels = batch[\"labels\"].to(device)\n",
    "\n",
    "            outputs = model(input_ids=input_ids, attention_mask=attention_mask)\n",
    "            preds = torch.argmax(outputs.logits, dim=1)\n",
    "\n",
    "            all_preds.extend(preds.cpu().numpy())\n",
    "            all_labels.extend(labels.cpu().numpy())\n",
    "\n",
    "    return all_labels, all_preds"
   ]
  },
  {
   "cell_type": "code",
   "execution_count": null,
   "metadata": {},
   "outputs": [
    {
     "name": "stdout",
     "output_type": "stream",
     "text": [
      "Train set metrics\n"
     ]
    },
    {
     "name": "stdout",
     "output_type": "stream",
     "text": [
      "F1 Score 0.9031939629860561\n",
      "Accuracy 0.9032375\n",
      "Recall 0.9032413883864303\n",
      "\n",
      "Validation set metrics\n",
      "F1 Score 0.8717576750035797\n",
      "Accuracy 0.871825\n",
      "Recall 0.8717898184039178\n",
      "\n",
      "Test set metrics\n"
     ]
    },
    {
     "name": "stderr",
     "output_type": "stream",
     "text": [
      "/home/bartek/mimi/NLP-2025-main/utils/text_datasets.py:22: UserWarning: To copy construct from a tensor, it is recommended to use sourceTensor.detach().clone() or sourceTensor.detach().clone().requires_grad_(True), rather than torch.tensor(sourceTensor).\n",
      "  return torch.tensor(self.tokinizer(self.text[idx])), torch.tensor(\n"
     ]
    },
    {
     "name": "stdout",
     "output_type": "stream",
     "text": [
      "F1 Score 0.48746056203683324\n",
      "Accuracy 0.6244979919678715\n",
      "Recall 0.5774094079178825\n"
     ]
    },
    {
     "data": {
      "image/png": "[encoded data removed]",
      "text/plain": [
       "<Figure size 640x480 with 2 Axes>"
      ]
     },
     "metadata": {},
     "output_type": "display_data"
    },
    {
     "data": {
      "image/png": "[encoded data removed]",
      "text/plain": [
       "<Figure size 640x480 with 2 Axes>"
      ]
     },
     "metadata": {},
     "output_type": "display_data"
    },
    {
     "data": {
      "image/png": "[encoded data removed]",
      "text/plain": [
       "<Figure size 640x480 with 2 Axes>"
      ]
     },
     "metadata": {},
     "output_type": "display_data"
    }
   ],
   "source": [
    "# print(\"Train set metrics\")\n",
    "# train_labels, train_preds = measure_model(model, train_loader)\n",
    "# train_preds_tensor = torch.tensor(train_preds)\n",
    "# train_labels_tensor = torch.tensor(train_labels)\n",
    "\n",
    "# display_clasification_metrics(train_preds_tensor, train_labels_tensor, labels=dataset_labels)\n",
    "# plt.figure()\n",
    "\n",
    "# print(\"\\nValidation set metrics\")\n",
    "# val_labels, val_preds = measure_model(model, validation_loader)\n",
    "# val_preds_tensor = torch.tensor(val_preds)\n",
    "# val_labels_tensor = torch.tensor(val_labels)\n",
    "\n",
    "# display_clasification_metrics(val_preds_tensor, val_labels_tensor, labels=dataset_labels)\n",
    "# plt.figure()\n",
    "\n",
    "print(\"\\nTest set metrics\")\n",
    "test_labels, test_preds = measure_model(model, test_loader)\n",
    "test_preds_tensor = torch.tensor(test_preds)\n",
    "test_labels_tensor = torch.tensor(test_labels)\n",
    "\n",
    "display_clasification_metrics(test_preds_tensor, test_labels_tensor, labels=dataset_labels)"
   ]
  }
 ],
 "metadata": {
  "kernelspec": {
   "display_name": "Python (venv)",
   "language": "python",
   "name": "venv"
  },
  "language_info": {
   "codemirror_mode": {
    "name": "ipython",
    "version": 3
   },
   "file_extension": ".py",
   "mimetype": "text/x-python",
   "name": "python",
   "nbconvert_exporter": "python",
   "pygments_lexer": "ipython3",
   "version": "3.12.3"
  }
 },
 "nbformat": 4,
 "nbformat_minor": 2
}
