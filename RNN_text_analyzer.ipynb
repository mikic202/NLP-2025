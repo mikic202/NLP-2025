{
 "cells": [
  {
   "cell_type": "markdown",
   "metadata": {},
   "source": [
    "# RNN text sentiment analyzer"
   ]
  },
  {
   "cell_type": "code",
   "execution_count": 1,
   "metadata": {},
   "outputs": [],
   "source": [
    "import torch\n",
    "import gensim.downloader as api\n",
    "from gensim.models.word2vec import Word2Vec\n",
    "import torch.nn as nn\n",
    "import tqdm\n",
    "from torch.nn.utils.rnn import pad_sequence\n",
    "import matplotlib.pyplot as plt\n",
    "\n",
    "from utils.text_datasets import get_poem_sentiment_dataset\n",
    "from utils.metrics import display_clasification_metrics"
   ]
  },
  {
   "cell_type": "code",
   "execution_count": 2,
   "metadata": {},
   "outputs": [
    {
     "name": "stderr",
     "output_type": "stream",
     "text": [
      "/home/mikic202/miniconda3/envs/pt/lib/python3.11/site-packages/torch/cuda/__init__.py:141: UserWarning: CUDA initialization: CUDA unknown error - this may be due to an incorrectly set up environment, e.g. changing env variable CUDA_VISIBLE_DEVICES after program start. Setting the available devices to be zero. (Triggered internally at /opt/conda/conda-bld/pytorch_1708025842427/work/c10/cuda/CUDAFunctions.cpp:108.)\n",
      "  return torch._C._cuda_getDeviceCount() > 0\n"
     ]
    },
    {
     "data": {
      "text/plain": [
       "device(type='cpu')"
      ]
     },
     "execution_count": 2,
     "metadata": {},
     "output_type": "execute_result"
    }
   ],
   "source": [
    "device = torch.device(\"cuda\" if torch.cuda.is_available() else \"cpu\")\n",
    "device"
   ]
  },
  {
   "cell_type": "markdown",
   "metadata": {},
   "source": [
    "# Data"
   ]
  },
  {
   "cell_type": "code",
   "execution_count": 3,
   "metadata": {},
   "outputs": [],
   "source": [
    "BATCH_SIZE = 128"
   ]
  },
  {
   "cell_type": "code",
   "execution_count": 4,
   "metadata": {},
   "outputs": [],
   "source": [
    "corpus = api.load(\"text8\")\n",
    "gensim_model = Word2Vec(corpus)\n",
    "tokenizer = gensim_model.wv.key_to_index\n",
    "emb_weights = torch.FloatTensor(gensim_model.wv.vectors)\n",
    "\n",
    "\n",
    "def tokenize_function(examples):\n",
    "    review_tokenized = []\n",
    "    all_parsed = 0\n",
    "    unknows = 0\n",
    "    for word in examples.split():\n",
    "        all_parsed += 1\n",
    "        try:\n",
    "            review_tokenized.append(tokenizer[word.lower()])\n",
    "        except:\n",
    "            unknows += 1\n",
    "    return review_tokenized"
   ]
  },
  {
   "cell_type": "code",
   "execution_count": 5,
   "metadata": {},
   "outputs": [],
   "source": [
    "def pad_collate(batch):\n",
    "    xx, yy = zip(*batch)\n",
    "    x_lens = [len(x) - 1 for x in xx]\n",
    "\n",
    "    xx_pad = pad_sequence(xx, batch_first=True, padding_value=0)\n",
    "    yy = torch.stack(yy)\n",
    "    return xx_pad, yy, x_lens"
   ]
  },
  {
   "cell_type": "markdown",
   "metadata": {},
   "source": [
    "## Poem Dataset"
   ]
  },
  {
   "cell_type": "code",
   "execution_count": 6,
   "metadata": {},
   "outputs": [],
   "source": [
    "train_dataset, validation_dataset, test_dataset = get_poem_sentiment_dataset(\n",
    "    tokenize_function\n",
    ")\n",
    "\n",
    "validation_loader = torch.utils.data.DataLoader(\n",
    "    validation_dataset, batch_size=32, shuffle=False, collate_fn=pad_collate\n",
    ")\n",
    "test_loader = torch.utils.data.DataLoader(\n",
    "    test_dataset, batch_size=32, shuffle=False, collate_fn=pad_collate\n",
    ")\n",
    "train_loader = torch.utils.data.DataLoader(\n",
    "    train_dataset, batch_size=BATCH_SIZE, shuffle=True, collate_fn=pad_collate\n",
    ")"
   ]
  },
  {
   "cell_type": "markdown",
   "metadata": {},
   "source": [
    "# Model"
   ]
  },
  {
   "cell_type": "code",
   "execution_count": 7,
   "metadata": {},
   "outputs": [],
   "source": [
    "class LstmSentimentClasifier(nn.Module):\n",
    "    def __init__(\n",
    "        self,\n",
    "        embedding_dim,\n",
    "        hidden_size,\n",
    "        num_of_rnn_layers,\n",
    "        out_size,\n",
    "        emb_weights,\n",
    "        bidirectional=False,\n",
    "    ):\n",
    "        super().__init__()\n",
    "        self.num_of_rnn_layers = num_of_rnn_layers\n",
    "        self.hidden_size = hidden_size\n",
    "        if bidirectional:\n",
    "            self.bidirectional = 2\n",
    "        else:\n",
    "            self.bidirectional = 1\n",
    "        self.embeddings = nn.Embedding.from_pretrained(emb_weights)\n",
    "        self.embeddings.requires_grad = False\n",
    "        self.lstm = nn.LSTM(\n",
    "            input_size=embedding_dim,\n",
    "            hidden_size=hidden_size,\n",
    "            num_layers=num_of_rnn_layers,\n",
    "            bidirectional=bidirectional,\n",
    "            batch_first=False,\n",
    "        )\n",
    "        self.fc = nn.Linear(hidden_size * self.bidirectional, out_size)\n",
    "\n",
    "    def init_hidden(self, batch_size):\n",
    "        hidden = torch.zeros(\n",
    "            self.num_of_rnn_layers * self.bidirectional, batch_size, self.hidden_size\n",
    "        )\n",
    "        state = torch.zeros(\n",
    "            self.num_of_rnn_layers * self.bidirectional, batch_size, self.hidden_size\n",
    "        )\n",
    "        return hidden, state\n",
    "\n",
    "    def forward(self, x, len_x, hidden):\n",
    "        x = self.embeddings(x)\n",
    "        x = torch.transpose(x, 0, 1)\n",
    "        all_outputs, hidden = self.lstm(x, hidden)\n",
    "        all_outputs = torch.transpose(all_outputs, 0, 1)\n",
    "        last_seq_items = all_outputs[range(all_outputs.shape[0]), len_x]\n",
    "        out = last_seq_items\n",
    "        x = self.fc(out)\n",
    "        return x, hidden"
   ]
  },
  {
   "cell_type": "code",
   "execution_count": 10,
   "metadata": {},
   "outputs": [],
   "source": [
    "class GruSentimentClasifier(nn.Module):\n",
    "    def __init__(\n",
    "        self,\n",
    "        embedding_dim,\n",
    "        hidden_size,\n",
    "        num_of_rnn_layers,\n",
    "        out_size,\n",
    "        emb_weights,\n",
    "        bidirectional=False,\n",
    "    ):\n",
    "        super().__init__()\n",
    "        self.num_of_rnn_layers = num_of_rnn_layers\n",
    "        self.hidden_size = hidden_size\n",
    "        if bidirectional:\n",
    "            self.bidirectional = 2\n",
    "        else:\n",
    "            self.bidirectional = 1\n",
    "        self.embeddings = nn.Embedding.from_pretrained(emb_weights)\n",
    "        self.embeddings.requires_grad = False\n",
    "        self.gru = nn.GRU(\n",
    "            input_size=embedding_dim,\n",
    "            hidden_size=hidden_size,\n",
    "            num_layers=num_of_rnn_layers,\n",
    "            bidirectional=bidirectional,\n",
    "            batch_first=False,\n",
    "        )\n",
    "        self.fc = nn.Linear(hidden_size * self.bidirectional, out_size)\n",
    "\n",
    "    def init_hidden(self, batch_size):\n",
    "        hidden = torch.zeros(\n",
    "            self.num_of_rnn_layers * self.bidirectional, batch_size, self.hidden_size\n",
    "        )\n",
    "        return hidden\n",
    "\n",
    "    def forward(self, x, len_x, hidden):\n",
    "        x = self.embeddings(x)\n",
    "        x = torch.transpose(x, 0, 1)\n",
    "        all_outputs, hidden = self.gru(x, hidden)\n",
    "        all_outputs = torch.transpose(all_outputs, 0, 1)\n",
    "        last_seq_items = all_outputs[range(all_outputs.shape[0]), len_x]\n",
    "        out = last_seq_items\n",
    "        x = self.fc(out)\n",
    "        return x, hidden"
   ]
  },
  {
   "cell_type": "markdown",
   "metadata": {},
   "source": [
    "# Training"
   ]
  },
  {
   "cell_type": "code",
   "execution_count": 9,
   "metadata": {},
   "outputs": [
    {
     "ename": "NameError",
     "evalue": "name 'LstmSentimentClasifier' is not defined",
     "output_type": "error",
     "traceback": [
      "\u001b[0;31m---------------------------------------------------------------------------\u001b[0m",
      "\u001b[0;31mNameError\u001b[0m                                 Traceback (most recent call last)",
      "Cell \u001b[0;32mIn[9], line 1\u001b[0m\n\u001b[0;32m----> 1\u001b[0m model \u001b[38;5;241m=\u001b[39m \u001b[43mLstmSentimentClasifier\u001b[49m(\u001b[38;5;241m100\u001b[39m, \u001b[38;5;241m64\u001b[39m, \u001b[38;5;241m2\u001b[39m, \u001b[38;5;241m4\u001b[39m, emb_weights, bidirectional\u001b[38;5;241m=\u001b[39m\u001b[38;5;28;01mFalse\u001b[39;00m)\u001b[38;5;241m.\u001b[39mto(\n\u001b[1;32m      2\u001b[0m     device\n\u001b[1;32m      3\u001b[0m )\n\u001b[1;32m      5\u001b[0m optimizer \u001b[38;5;241m=\u001b[39m torch\u001b[38;5;241m.\u001b[39moptim\u001b[38;5;241m.\u001b[39mAdam(model\u001b[38;5;241m.\u001b[39mparameters(), lr\u001b[38;5;241m=\u001b[39m\u001b[38;5;241m0.0008\u001b[39m)\n\u001b[1;32m      6\u001b[0m weights \u001b[38;5;241m=\u001b[39m torch\u001b[38;5;241m.\u001b[39mtensor([\u001b[38;5;241m1.2\u001b[39m, \u001b[38;5;241m1.2\u001b[39m, \u001b[38;5;241m0.8\u001b[39m, \u001b[38;5;241m1.7\u001b[39m])\u001b[38;5;241m.\u001b[39mto(device)\n",
      "\u001b[0;31mNameError\u001b[0m: name 'LstmSentimentClasifier' is not defined"
     ]
    }
   ],
   "source": [
    "model = LstmSentimentClasifier(100, 64, 2, 4, emb_weights, bidirectional=False).to(\n",
    "    device\n",
    ")\n",
    "\n",
    "optimizer = torch.optim.Adam(model.parameters(), lr=0.0008)\n",
    "weights = torch.tensor([1.2, 1.2, 0.8, 1.7]).to(device)\n",
    "loss_fun = nn.CrossEntropyLoss(weight=weights)\n",
    "model.train()\n",
    "\n",
    "EPOCHS = 20\n",
    "\n",
    "progress_bar = tqdm.tqdm(range(EPOCHS), total=EPOCHS, desc=\"Epoch\")\n",
    "\n",
    "for epoch in progress_bar:\n",
    "    losses = 0\n",
    "    batches = 0\n",
    "    for x, targets, len_x in train_loader:\n",
    "        x = x.to(device).long()\n",
    "        targets = targets.to(device)\n",
    "        hidden, state = model.init_hidden(x.size(0))\n",
    "        hidden, state = hidden.to(device), state.to(device)\n",
    "        preds, _ = model(x, len_x, (hidden, state))\n",
    "        preds = preds.squeeze(1)\n",
    "        optimizer.zero_grad()\n",
    "        loss = loss_fun(preds, targets)\n",
    "        loss.backward()\n",
    "        optimizer.step()\n",
    "        losses += loss.item()\n",
    "        batches += 1\n",
    "    with torch.no_grad():\n",
    "        validation_loss = 0\n",
    "        validation_batches = 0\n",
    "        for x, targets, len_x in validation_loader:\n",
    "            validation_batches += 1\n",
    "            x = x.to(device).long()\n",
    "            targets = targets.to(device)\n",
    "            hidden, state = model.init_hidden(x.size(0))\n",
    "            hidden, state = hidden.to(device), state.to(device)\n",
    "            preds, _ = model(x, len_x, (hidden, state))\n",
    "            preds = preds.squeeze(1)\n",
    "            loss = loss_fun(preds, targets)\n",
    "            validation_loss += loss.item()\n",
    "    progress_bar.set_postfix({\"Train loss\": losses / batches, \"Validation loss\": validation_loss / validation_batches})"
   ]
  },
  {
   "cell_type": "code",
   "execution_count": 18,
   "metadata": {},
   "outputs": [
    {
     "name": "stderr",
     "output_type": "stream",
     "text": [
      "Epoch:   0%|          | 0/15 [00:00<?, ?it/s]"
     ]
    },
    {
     "name": "stderr",
     "output_type": "stream",
     "text": [
      "Epoch: 100%|██████████| 15/15 [00:03<00:00,  3.84it/s, Train loss=0.596, Validation loss=1.06]\n"
     ]
    }
   ],
   "source": [
    "model = GruSentimentClasifier(100, 64, 2, 4, emb_weights, bidirectional=True).to(\n",
    "    device\n",
    ")\n",
    "\n",
    "optimizer = torch.optim.Adam(model.parameters(), lr=0.0007)\n",
    "weights = torch.tensor([1.2, 1.2, 0.8, 1.7]).to(device)\n",
    "loss_fun = nn.CrossEntropyLoss(weight=weights)\n",
    "model.train()\n",
    "\n",
    "EPOCHS = 15\n",
    "\n",
    "progress_bar = tqdm.tqdm(range(EPOCHS), total=EPOCHS, desc=\"Epoch\")\n",
    "\n",
    "for epoch in progress_bar:\n",
    "    losses = 0\n",
    "    batches = 0\n",
    "    for x, targets, len_x in train_loader:\n",
    "        x = x.to(device).long()\n",
    "        targets = targets.to(device)\n",
    "        hidden = model.init_hidden(x.size(0))\n",
    "        hidden = hidden.to(device)\n",
    "        preds, _ = model(x, len_x, hidden)\n",
    "        preds = preds.squeeze(1)\n",
    "        optimizer.zero_grad()\n",
    "        loss = loss_fun(preds, targets)\n",
    "        loss.backward()\n",
    "        optimizer.step()\n",
    "        losses += loss.item()\n",
    "        batches += 1\n",
    "    with torch.no_grad():\n",
    "        validation_loss = 0\n",
    "        validation_batches = 0\n",
    "        for x, targets, len_x in validation_loader:\n",
    "            validation_batches += 1\n",
    "            x = x.to(device).long()\n",
    "            targets = targets.to(device)\n",
    "            hidden= model.init_hidden(x.size(0))\n",
    "            hidden= hidden.to(device)\n",
    "            preds, _ = model(x, len_x, hidden)\n",
    "            preds = preds.squeeze(1)\n",
    "            loss = loss_fun(preds, targets)\n",
    "            validation_loss += loss.item()\n",
    "    progress_bar.set_postfix({\"Train loss\": losses / batches, \"Validation loss\": validation_loss / validation_batches})"
   ]
  },
  {
   "cell_type": "markdown",
   "metadata": {},
   "source": [
    "## Measure accuracy"
   ]
  },
  {
   "cell_type": "code",
   "execution_count": 14,
   "metadata": {},
   "outputs": [],
   "source": [
    "def measure_lstm_model(model, data_loader):\n",
    "    model.eval()\n",
    "    y_true = torch.tensor([]).to(device)\n",
    "    y_pred = torch.tensor([]).to(device)\n",
    "    with torch.no_grad():\n",
    "        for x, targets, len_x in data_loader:\n",
    "            x = x.to(device).long()\n",
    "            targets = targets.to(device)\n",
    "            hidden, state = model.init_hidden(x.size(0))\n",
    "            hidden, state = hidden.to(device), state.to(device)\n",
    "            preds, _ = model(x, len_x, (hidden, state))\n",
    "            preds = preds.squeeze(1)\n",
    "            y_true = torch.cat((y_true, targets), 0)\n",
    "            y_pred = torch.cat((y_pred, preds.argmax(1)), 0)\n",
    "    return y_true, y_pred\n",
    "\n",
    "def measure_gru_model(model, data_loader):\n",
    "    model.eval()\n",
    "    y_true = torch.tensor([]).to(device)\n",
    "    y_pred = torch.tensor([]).to(device)\n",
    "    with torch.no_grad():\n",
    "        for x, targets, len_x in data_loader:\n",
    "            x = x.to(device).long()\n",
    "            targets = targets.to(device)\n",
    "            hidden = model.init_hidden(x.size(0))\n",
    "            hidden = hidden.to(device)\n",
    "            preds, _ = model(x, len_x, hidden)\n",
    "            preds = preds.squeeze(1)\n",
    "            y_true = torch.cat((y_true, targets), 0)\n",
    "            y_pred = torch.cat((y_pred, preds.argmax(1)), 0)\n",
    "    return y_true, y_pred\n",
    "\n",
    "def measure_model(model, data_loader):\n",
    "    if hasattr(model, \"lstm\"):\n",
    "        return measure_lstm_model(model, data_loader)\n",
    "    elif hasattr(model, \"gru\"):\n",
    "        return measure_gru_model(model, data_loader)"
   ]
  },
  {
   "cell_type": "code",
   "execution_count": 19,
   "metadata": {},
   "outputs": [
    {
     "name": "stdout",
     "output_type": "stream",
     "text": [
      "Train set metrics\n",
      "F1 Score 0.7664486969587848\n",
      "Accuracy 0.8239910313901345\n",
      "Recall 0.7652239173097771\n",
      "\n",
      "Validation set metrics\n",
      "F1 Score 0.3618054701635428\n",
      "Accuracy 0.6571428571428571\n",
      "Recall 0.3420043074438013\n",
      "\n",
      "Test set metrics\n",
      "F1 Score 0.276010101010101\n",
      "Accuracy 0.5288461538461539\n",
      "Recall 0.2638849160945843\n"
     ]
    },
    {
     "name": "stderr",
     "output_type": "stream",
     "text": [
      "/home/mikic202/miniconda3/envs/pt/lib/python3.11/site-packages/sklearn/metrics/_classification.py:1509: UndefinedMetricWarning: Recall is ill-defined and being set to 0.0 in labels with no true samples. Use `zero_division` parameter to control this behavior.\n",
      "  _warn_prf(average, modifier, f\"{metric.capitalize()} is\", len(result))\n",
      "/home/mikic202/miniconda3/envs/pt/lib/python3.11/site-packages/sklearn/metrics/_classification.py:1509: UndefinedMetricWarning: Recall is ill-defined and being set to 0.0 in labels with no true samples. Use `zero_division` parameter to control this behavior.\n",
      "  _warn_prf(average, modifier, f\"{metric.capitalize()} is\", len(result))\n"
     ]
    },
    {
     "data": {
      "image/png": "[encoded data removed]",
      "text/plain": [
       "<Figure size 640x480 with 2 Axes>"
      ]
     },
     "metadata": {},
     "output_type": "display_data"
    },
    {
     "data": {
      "image/png": "[encoded data removed]",
      "text/plain": [
       "<Figure size 640x480 with 2 Axes>"
      ]
     },
     "metadata": {},
     "output_type": "display_data"
    },
    {
     "data": {
      "image/png": "[encoded data removed]",
      "text/plain": [
       "<Figure size 640x480 with 2 Axes>"
      ]
     },
     "metadata": {},
     "output_type": "display_data"
    }
   ],
   "source": [
    "print(\"Train set metrics\")\n",
    "\n",
    "total_targets, total_preds = measure_model(model, train_loader)\n",
    "display_clasification_metrics(total_preds.cpu(), total_targets.cpu())\n",
    "plt.figure()\n",
    "\n",
    "print(\"\\nValidation set metrics\")\n",
    "total_targets, total_preds = measure_model(model, validation_loader)\n",
    "display_clasification_metrics(total_preds.cpu(), total_targets.cpu())\n",
    "\n",
    "plt.figure()\n",
    "\n",
    "print(\"\\nTest set metrics\")\n",
    "total_targets, total_preds = measure_model(model, test_loader)\n",
    "display_clasification_metrics(total_preds.cpu(), total_targets.cpu())"
   ]
  },
  {
   "cell_type": "code",
   "execution_count": 54,
   "metadata": {},
   "outputs": [],
   "source": [
    "torch.save(model.cpu().state_dict(), \"models/lstm_sentiment_model_acc_84_52_61.pth\")"
   ]
  }
 ],
 "metadata": {
  "kernelspec": {
   "display_name": "pt",
   "language": "python",
   "name": "python3"
  },
  "language_info": {
   "codemirror_mode": {
    "name": "ipython",
    "version": 3
   },
   "file_extension": ".py",
   "mimetype": "text/x-python",
   "name": "python",
   "nbconvert_exporter": "python",
   "pygments_lexer": "ipython3",
   "version": "3.11.8"
  }
 },
 "nbformat": 4,
 "nbformat_minor": 2
}
