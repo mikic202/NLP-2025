{
 "cells": [
  {
   "cell_type": "markdown",
   "metadata": {},
   "source": [
    "# RNN text sentiment analyzer"
   ]
  },
  {
   "cell_type": "code",
   "execution_count": 1,
   "metadata": {},
   "outputs": [],
   "source": [
    "import torch\n",
    "import gensim.downloader as api\n",
    "from gensim.models.word2vec import Word2Vec\n",
    "import torch.nn as nn\n",
    "import tqdm\n",
    "from torch.nn.utils.rnn import pad_sequence\n",
    "import matplotlib.pyplot as plt\n",
    "from torch.utils.data import Subset\n",
    "from sklearn.model_selection import train_test_split\n",
    "\n",
    "from utils.text_datasets import get_poem_sentiment_dataset, get_basic_tweet_sentiment_dataset\n",
    "from utils.metrics import display_clasification_metrics"
   ]
  },
  {
   "cell_type": "code",
   "execution_count": 2,
   "metadata": {},
   "outputs": [
    {
     "data": {
      "text/plain": [
       "device(type='cuda')"
      ]
     },
     "execution_count": 2,
     "metadata": {},
     "output_type": "execute_result"
    }
   ],
   "source": [
    "device = torch.device(\"cuda\" if torch.cuda.is_available() else \"cpu\")\n",
    "device"
   ]
  },
  {
   "cell_type": "markdown",
   "metadata": {},
   "source": [
    "# Data"
   ]
  },
  {
   "cell_type": "code",
   "execution_count": 3,
   "metadata": {},
   "outputs": [],
   "source": [
    "corpus = api.load(\"text8\")\n",
    "gensim_model = Word2Vec(corpus)\n",
    "tokenizer = gensim_model.wv.key_to_index\n",
    "emb_weights = torch.FloatTensor(gensim_model.wv.vectors)\n",
    "\n",
    "\n",
    "def tokenize_function(examples):\n",
    "    review_tokenized = []\n",
    "    all_parsed = 0\n",
    "    unknows = 0\n",
    "    for word in examples.split():\n",
    "        all_parsed += 1\n",
    "        try:\n",
    "            review_tokenized.append(tokenizer[word.lower()])\n",
    "        except:\n",
    "            unknows += 1\n",
    "    return review_tokenized"
   ]
  },
  {
   "cell_type": "code",
   "execution_count": 4,
   "metadata": {},
   "outputs": [],
   "source": [
    "def pad_collate(batch):\n",
    "    xx, yy = zip(*batch)\n",
    "    x_lens = [len(x) - 1 for x in xx]\n",
    "\n",
    "    xx_pad = pad_sequence(xx, batch_first=True, padding_value=0)\n",
    "    yy = torch.stack(yy)\n",
    "    return xx_pad, yy, x_lens"
   ]
  },
  {
   "cell_type": "markdown",
   "metadata": {},
   "source": [
    "## Poem Dataset"
   ]
  },
  {
   "cell_type": "code",
   "execution_count": 5,
   "metadata": {},
   "outputs": [],
   "source": [
    "\n",
    "train_dataset, validation_dataset, test_dataset = get_poem_sentiment_dataset(\n",
    "    tokenize_function\n",
    ")"
   ]
  },
  {
   "cell_type": "code",
   "execution_count": 6,
   "metadata": {},
   "outputs": [],
   "source": [
    "BATCH_SIZE = 128\n",
    "\n",
    "\n",
    "validation_loader = torch.utils.data.DataLoader(\n",
    "    validation_dataset, batch_size=32, shuffle=False, collate_fn=pad_collate\n",
    ")\n",
    "test_loader = torch.utils.data.DataLoader(\n",
    "    test_dataset, batch_size=32, shuffle=False, collate_fn=pad_collate\n",
    ")\n",
    "train_loader = torch.utils.data.DataLoader(\n",
    "    train_dataset, batch_size=BATCH_SIZE, shuffle=True, collate_fn=pad_collate\n",
    ")"
   ]
  },
  {
   "cell_type": "markdown",
   "metadata": {},
   "source": [
    "## Simple Twiter Dataset"
   ]
  },
  {
   "cell_type": "code",
   "execution_count": 5,
   "metadata": {},
   "outputs": [
    {
     "name": "stderr",
     "output_type": "stream",
     "text": [
      "/home/mikic202/miniconda3/envs/pt/lib/python3.11/site-packages/datasets/load.py:1491: FutureWarning: The repository for stanfordnlp/sentiment140 contains custom code which must be executed to correctly load the dataset. You can inspect the repository content at https://hf.co/datasets/stanfordnlp/sentiment140\n",
      "You can avoid this message in future by passing the argument `trust_remote_code=True`.\n",
      "Passing `trust_remote_code=True` will be mandatory to load this dataset from the next major release of `datasets`.\n",
      "  warnings.warn(\n"
     ]
    }
   ],
   "source": [
    "train_dataset, test_dataset = get_basic_tweet_sentiment_dataset(\n",
    "    tokenize_function\n",
    ")\n",
    "\n",
    "train_size = 0.9\n",
    "train_dataset, validation_dataset = train_test_split(\n",
    "    train_dataset, train_size=train_size, shuffle=True\n",
    ")\n"
   ]
  },
  {
   "cell_type": "code",
   "execution_count": 6,
   "metadata": {},
   "outputs": [],
   "source": [
    "BATCH_SIZE = 512\n",
    "\n",
    "test_loader = torch.utils.data.DataLoader(\n",
    "    test_dataset, batch_size=32, shuffle=False, collate_fn=pad_collate\n",
    ")\n",
    "train_loader = torch.utils.data.DataLoader(\n",
    "    train_dataset, batch_size=BATCH_SIZE, shuffle=True, collate_fn=pad_collate\n",
    ")\n",
    "validation_loader = torch.utils.data.DataLoader(\n",
    "    validation_dataset, batch_size=32, shuffle=False, collate_fn=pad_collate\n",
    ")"
   ]
  },
  {
   "cell_type": "markdown",
   "metadata": {},
   "source": [
    "# Model"
   ]
  },
  {
   "cell_type": "code",
   "execution_count": 7,
   "metadata": {},
   "outputs": [],
   "source": [
    "class LstmSentimentClasifier(nn.Module):\n",
    "    def __init__(\n",
    "        self,\n",
    "        embedding_dim,\n",
    "        hidden_size,\n",
    "        num_of_rnn_layers,\n",
    "        out_size,\n",
    "        emb_weights,\n",
    "        bidirectional=False,\n",
    "    ):\n",
    "        super().__init__()\n",
    "        self.num_of_rnn_layers = num_of_rnn_layers\n",
    "        self.hidden_size = hidden_size\n",
    "        if bidirectional:\n",
    "            self.bidirectional = 2\n",
    "        else:\n",
    "            self.bidirectional = 1\n",
    "        self.embeddings = nn.Embedding.from_pretrained(emb_weights)\n",
    "        self.embeddings.requires_grad = False\n",
    "        self.lstm = nn.LSTM(\n",
    "            input_size=embedding_dim,\n",
    "            hidden_size=hidden_size,\n",
    "            num_layers=num_of_rnn_layers,\n",
    "            bidirectional=bidirectional,\n",
    "            batch_first=False,\n",
    "        )\n",
    "        self.fc = nn.Linear(hidden_size * self.bidirectional, out_size)\n",
    "\n",
    "    def init_hidden(self, batch_size):\n",
    "        hidden = torch.zeros(\n",
    "            self.num_of_rnn_layers * self.bidirectional, batch_size, self.hidden_size\n",
    "        )\n",
    "        state = torch.zeros(\n",
    "            self.num_of_rnn_layers * self.bidirectional, batch_size, self.hidden_size\n",
    "        )\n",
    "        return hidden, state\n",
    "\n",
    "    def forward(self, x, len_x, hidden):\n",
    "        x = self.embeddings(x)\n",
    "        x = torch.transpose(x, 0, 1)\n",
    "        all_outputs, hidden = self.lstm(x, hidden)\n",
    "        all_outputs = torch.transpose(all_outputs, 0, 1)\n",
    "        last_seq_items = all_outputs[range(all_outputs.shape[0]), len_x]\n",
    "        out = last_seq_items\n",
    "        x = self.fc(out)\n",
    "        return x, hidden"
   ]
  },
  {
   "cell_type": "code",
   "execution_count": 7,
   "metadata": {},
   "outputs": [],
   "source": [
    "class GruSentimentClasifier(nn.Module):\n",
    "    def __init__(\n",
    "        self,\n",
    "        embedding_dim,\n",
    "        hidden_size,\n",
    "        num_of_rnn_layers,\n",
    "        out_size,\n",
    "        emb_weights,\n",
    "        bidirectional=False,\n",
    "    ):\n",
    "        super().__init__()\n",
    "        self.num_of_rnn_layers = num_of_rnn_layers\n",
    "        self.hidden_size = hidden_size\n",
    "        if bidirectional:\n",
    "            self.bidirectional = 2\n",
    "        else:\n",
    "            self.bidirectional = 1\n",
    "        self.embeddings = nn.Embedding.from_pretrained(emb_weights)\n",
    "        self.embeddings.requires_grad = False\n",
    "        self.gru = nn.GRU(\n",
    "            input_size=embedding_dim,\n",
    "            hidden_size=hidden_size,\n",
    "            num_layers=num_of_rnn_layers,\n",
    "            bidirectional=bidirectional,\n",
    "            batch_first=False,\n",
    "        )\n",
    "        self.fc = nn.Linear(hidden_size * self.bidirectional, (hidden_size * self.bidirectional)//2)\n",
    "        self.ac1 = nn.LeakyReLU(0.1)\n",
    "        self.fc2 = nn.Linear((hidden_size * self.bidirectional)//2, out_size)\n",
    "\n",
    "    def init_hidden(self, batch_size):\n",
    "        hidden = torch.zeros(\n",
    "            self.num_of_rnn_layers * self.bidirectional, batch_size, self.hidden_size\n",
    "        )\n",
    "        return hidden\n",
    "\n",
    "    def forward(self, x, len_x, hidden):\n",
    "        x = self.embeddings(x)\n",
    "        x = torch.transpose(x, 0, 1)\n",
    "        all_outputs, hidden = self.gru(x, hidden)\n",
    "        all_outputs = torch.transpose(all_outputs, 0, 1)\n",
    "        last_seq_items = all_outputs[range(all_outputs.shape[0]), len_x]\n",
    "        out = last_seq_items\n",
    "        x = self.fc(out)\n",
    "        x = self.ac1(x)\n",
    "        x = self.fc2(x)\n",
    "        return x, hidden"
   ]
  },
  {
   "cell_type": "markdown",
   "metadata": {},
   "source": [
    "# Training"
   ]
  },
  {
   "cell_type": "code",
   "execution_count": 13,
   "metadata": {},
   "outputs": [
    {
     "name": "stderr",
     "output_type": "stream",
     "text": [
      "Epoch:   0%|          | 0/5 [00:00<?, ?it/s]"
     ]
    },
    {
     "name": "stderr",
     "output_type": "stream",
     "text": [
      "Epoch: 100%|██████████| 5/5 [20:19<00:00, 243.82s/it, Train loss=0.407, Validation loss=0.452]\n"
     ]
    }
   ],
   "source": [
    "# model = LstmSentimentClasifier(100, 64, 2, 4, emb_weights, bidirectional=False).to(\n",
    "#     device\n",
    "# )\n",
    "\n",
    "model = LstmSentimentClasifier(100, 256, 2, 5, emb_weights, bidirectional=True).to(\n",
    "    device\n",
    ")\n",
    "\n",
    "optimizer = torch.optim.Adam(model.parameters(), lr=0.0007)\n",
    "# weights = torch.tensor([1.2, 1.2, 0.8, 1.7]).to(device)\n",
    "# loss_fun = nn.CrossEntropyLoss(weight=weights)\n",
    "loss_fun = nn.CrossEntropyLoss()\n",
    "model.train()\n",
    "\n",
    "EPOCHS = 5\n",
    "\n",
    "progress_bar = tqdm.tqdm(range(EPOCHS), total=EPOCHS, desc=\"Epoch\")\n",
    "\n",
    "for epoch in progress_bar:\n",
    "    losses = 0\n",
    "    batches = 0\n",
    "    for x, targets, len_x in train_loader:\n",
    "        x = x.to(device).long()\n",
    "        targets = targets.to(device)\n",
    "        hidden, state = model.init_hidden(x.size(0))\n",
    "        hidden, state = hidden.to(device), state.to(device)\n",
    "        preds, _ = model(x, len_x, (hidden, state))\n",
    "        preds = preds.squeeze(1)\n",
    "        optimizer.zero_grad()\n",
    "        loss = loss_fun(preds, targets)\n",
    "        loss.backward()\n",
    "        optimizer.step()\n",
    "        losses += loss.item()\n",
    "        batches += 1\n",
    "    with torch.no_grad():\n",
    "        validation_loss = 0\n",
    "        validation_batches = 0\n",
    "        for x, targets, len_x in validation_loader:\n",
    "            validation_batches += 1\n",
    "            x = x.to(device).long()\n",
    "            targets = targets.to(device)\n",
    "            hidden, state = model.init_hidden(x.size(0))\n",
    "            hidden, state = hidden.to(device), state.to(device)\n",
    "            preds, _ = model(x, len_x, (hidden, state))\n",
    "            preds = preds.squeeze(1)\n",
    "            loss = loss_fun(preds, targets)\n",
    "            validation_loss += loss.item()\n",
    "    progress_bar.set_postfix({\"Train loss\": losses / batches, \"Validation loss\": validation_loss / validation_batches})"
   ]
  },
  {
   "cell_type": "code",
   "execution_count": 44,
   "metadata": {},
   "outputs": [
    {
     "name": "stderr",
     "output_type": "stream",
     "text": [
      "Epoch: 100%|██████████| 5/5 [25:26<00:00, 305.24s/it, Train loss=0.4, Validation loss=0.453]  \n"
     ]
    }
   ],
   "source": [
    "model = GruSentimentClasifier(100, 256, 3, 5, emb_weights, bidirectional=True).to(\n",
    "    device\n",
    ")\n",
    "\n",
    "optimizer = torch.optim.Adam(model.parameters(), lr=0.0005)\n",
    "# weights = torch.tensor([1.2, 1.2, 0.8, 1.7]).to(device)\n",
    "# loss_fun = nn.CrossEntropyLoss(weight=weights)\n",
    "loss_fun = nn.CrossEntropyLoss()\n",
    "model.train()\n",
    "\n",
    "EPOCHS = 5\n",
    "\n",
    "train_loss_trajectory = []\n",
    "validation_loss_trajectory = []\n",
    "\n",
    "progress_bar = tqdm.tqdm(range(EPOCHS), total=EPOCHS, desc=\"Epoch\")\n",
    "\n",
    "for epoch in progress_bar:\n",
    "    losses = 0\n",
    "    batches = 0\n",
    "    for x, targets, len_x in train_loader:\n",
    "        x = x.to(device).long()\n",
    "        targets = targets.to(device)\n",
    "        hidden = model.init_hidden(x.size(0))\n",
    "        hidden = hidden.to(device)\n",
    "        preds, _ = model(x, len_x, hidden)\n",
    "        preds = preds.squeeze(1)\n",
    "        optimizer.zero_grad()\n",
    "        loss = loss_fun(preds, targets)\n",
    "        loss.backward()\n",
    "        optimizer.step()\n",
    "        losses += loss.item()\n",
    "        batches += 1\n",
    "    with torch.no_grad():\n",
    "        validation_loss = 0\n",
    "        validation_batches = 0\n",
    "        for x, targets, len_x in validation_loader:\n",
    "            validation_batches += 1\n",
    "            x = x.to(device).long()\n",
    "            targets = targets.to(device)\n",
    "            hidden= model.init_hidden(x.size(0))\n",
    "            hidden= hidden.to(device)\n",
    "            preds, _ = model(x, len_x, hidden)\n",
    "            preds = preds.squeeze(1)\n",
    "            loss = loss_fun(preds, targets)\n",
    "            validation_loss += loss.item()\n",
    "    train_loss_trajectory.append(losses / batches)\n",
    "    validation_loss_trajectory.append(validation_loss / validation_batches)\n",
    "    progress_bar.set_postfix({\"Train loss\": losses / batches, \"Validation loss\": validation_loss / validation_batches})"
   ]
  },
  {
   "cell_type": "code",
   "execution_count": 9,
   "metadata": {},
   "outputs": [
    {
     "ename": "NameError",
     "evalue": "name 'train_loss_trajectory' is not defined",
     "output_type": "error",
     "traceback": [
      "\u001b[0;31m---------------------------------------------------------------------------\u001b[0m",
      "\u001b[0;31mNameError\u001b[0m                                 Traceback (most recent call last)",
      "Cell \u001b[0;32mIn[9], line 1\u001b[0m\n\u001b[0;32m----> 1\u001b[0m plt\u001b[38;5;241m.\u001b[39mplot(\u001b[43mtrain_loss_trajectory\u001b[49m, label\u001b[38;5;241m=\u001b[39m\u001b[38;5;124m\"\u001b[39m\u001b[38;5;124mTrain loss\u001b[39m\u001b[38;5;124m\"\u001b[39m)\n\u001b[1;32m      2\u001b[0m plt\u001b[38;5;241m.\u001b[39mplot(validation_loss_trajectory, label\u001b[38;5;241m=\u001b[39m\u001b[38;5;124m\"\u001b[39m\u001b[38;5;124mValidation loss\u001b[39m\u001b[38;5;124m\"\u001b[39m)\n",
      "\u001b[0;31mNameError\u001b[0m: name 'train_loss_trajectory' is not defined"
     ]
    }
   ],
   "source": [
    "plt.plot(train_loss_trajectory, label=\"Train loss\")\n",
    "plt.plot(validation_loss_trajectory, label=\"Validation loss\")"
   ]
  },
  {
   "cell_type": "markdown",
   "metadata": {},
   "source": [
    "## Measure accuracy"
   ]
  },
  {
   "cell_type": "code",
   "execution_count": 11,
   "metadata": {},
   "outputs": [],
   "source": [
    "def measure_lstm_model(model, data_loader):\n",
    "    model.eval()\n",
    "    y_true = torch.tensor([]).to(device)\n",
    "    y_pred = torch.tensor([]).to(device)\n",
    "    with torch.no_grad():\n",
    "        for x, targets, len_x in data_loader:\n",
    "            x = x.to(device).long()\n",
    "            targets = targets.to(device)\n",
    "            hidden, state = model.init_hidden(x.size(0))\n",
    "            hidden, state = hidden.to(device), state.to(device)\n",
    "            preds, _ = model(x, len_x, (hidden, state))\n",
    "            preds = preds.squeeze(1)\n",
    "            y_true = torch.cat((y_true, targets), 0)\n",
    "            y_pred = torch.cat((y_pred, preds.argmax(1)), 0)\n",
    "    return y_true, y_pred\n",
    "\n",
    "def measure_gru_model(model, data_loader):\n",
    "    model.eval()\n",
    "    y_true = torch.tensor([]).to(device)\n",
    "    y_pred = torch.tensor([]).to(device)\n",
    "    with torch.no_grad():\n",
    "        for x, targets, len_x in data_loader:\n",
    "            x = x.to(device).long()\n",
    "            targets = targets.to(device)\n",
    "            hidden = model.init_hidden(x.size(0))\n",
    "            hidden = hidden.to(device)\n",
    "            preds, _ = model(x, len_x, hidden)\n",
    "            preds = preds.squeeze(1)\n",
    "            y_true = torch.cat((y_true, targets), 0)\n",
    "            y_pred = torch.cat((y_pred, preds.argmax(1)), 0)\n",
    "    return y_true, y_pred\n",
    "\n",
    "def measure_model(model, data_loader):\n",
    "    if hasattr(model, \"lstm\"):\n",
    "        return measure_lstm_model(model, data_loader)\n",
    "    elif hasattr(model, \"gru\"):\n",
    "        return measure_gru_model(model, data_loader)"
   ]
  },
  {
   "cell_type": "code",
   "execution_count": 14,
   "metadata": {},
   "outputs": [
    {
     "name": "stdout",
     "output_type": "stream",
     "text": [
      "Train set metrics\n",
      "F1 Score 0.8287344755003543\n",
      "Accuracy 0.8287409722222222\n",
      "Recall 0.8287386488442781\n",
      "\n",
      "Validation set metrics\n",
      "F1 Score 0.785776995208759\n",
      "Accuracy 0.78579375\n",
      "Recall 0.7858355907799652\n",
      "\n",
      "Test set metrics\n",
      "F1 Score 0.40552736726268285\n",
      "Accuracy 0.5200803212851406\n",
      "Recall 0.48051571780385344\n"
     ]
    },
    {
     "data": {
      "image/png": "[encoded data removed]",
      "text/plain": [
       "<Figure size 640x480 with 2 Axes>"
      ]
     },
     "metadata": {},
     "output_type": "display_data"
    },
    {
     "data": {
      "image/png": "[encoded data removed]",
      "text/plain": [
       "<Figure size 640x480 with 2 Axes>"
      ]
     },
     "metadata": {},
     "output_type": "display_data"
    },
    {
     "data": {
      "image/png": "[encoded data removed]",
      "text/plain": [
       "<Figure size 640x480 with 2 Axes>"
      ]
     },
     "metadata": {},
     "output_type": "display_data"
    }
   ],
   "source": [
    "print(\"Train set metrics\")\n",
    "\n",
    "total_targets, total_preds = measure_model(model, train_loader)\n",
    "display_clasification_metrics(total_preds.cpu(), total_targets.cpu())\n",
    "plt.figure()\n",
    "\n",
    "print(\"\\nValidation set metrics\")\n",
    "total_targets, total_preds = measure_model(model, validation_loader)\n",
    "display_clasification_metrics(total_preds.cpu(), total_targets.cpu())\n",
    "\n",
    "plt.figure()\n",
    "\n",
    "print(\"\\nTest set metrics\")\n",
    "total_targets, total_preds = measure_model(model, test_loader)\n",
    "display_clasification_metrics(total_preds.cpu(), total_targets.cpu())"
   ]
  },
  {
   "cell_type": "code",
   "execution_count": 54,
   "metadata": {},
   "outputs": [],
   "source": [
    "torch.save(model.cpu().state_dict(), \"models/lstm_sentiment_model_acc_84_52_61.pth\")"
   ]
  }
 ],
 "metadata": {
  "kernelspec": {
   "display_name": "pt",
   "language": "python",
   "name": "python3"
  },
  "language_info": {
   "codemirror_mode": {
    "name": "ipython",
    "version": 3
   },
   "file_extension": ".py",
   "mimetype": "text/x-python",
   "name": "python",
   "nbconvert_exporter": "python",
   "pygments_lexer": "ipython3",
   "version": "3.11.8"
  }
 },
 "nbformat": 4,
 "nbformat_minor": 2
}
