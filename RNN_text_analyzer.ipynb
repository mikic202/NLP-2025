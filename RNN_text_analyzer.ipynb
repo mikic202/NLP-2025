{
 "cells": [
  {
   "cell_type": "markdown",
   "metadata": {},
   "source": [
    "# RNN text sentiment analyzer"
   ]
  },
  {
   "cell_type": "code",
   "execution_count": 1,
   "metadata": {},
   "outputs": [],
   "source": [
    "import torch\n",
    "import gensim.downloader as api\n",
    "from gensim.models.word2vec import Word2Vec\n",
    "import torch.nn as nn\n",
    "import tqdm\n",
    "from torch.nn.utils.rnn import pad_sequence\n",
    "\n",
    "from utils.text_datasets import get_poem_sentiment_dataset\n",
    "from utils.metrics import display_clasification_metrics"
   ]
  },
  {
   "cell_type": "code",
   "execution_count": 2,
   "metadata": {},
   "outputs": [
    {
     "data": {
      "text/plain": [
       "device(type='cuda')"
      ]
     },
     "execution_count": 2,
     "metadata": {},
     "output_type": "execute_result"
    }
   ],
   "source": [
    "device = torch.device(\"cuda\" if torch.cuda.is_available() else \"cpu\")\n",
    "device"
   ]
  },
  {
   "cell_type": "markdown",
   "metadata": {},
   "source": [
    "# Data"
   ]
  },
  {
   "cell_type": "code",
   "execution_count": 3,
   "metadata": {},
   "outputs": [],
   "source": [
    "BATCH_SIZE = 128"
   ]
  },
  {
   "cell_type": "code",
   "execution_count": 4,
   "metadata": {},
   "outputs": [],
   "source": [
    "corpus = api.load(\"text8\")\n",
    "gensim_model = Word2Vec(corpus)\n",
    "tokenizer = gensim_model.wv.key_to_index\n",
    "emb_weights = torch.FloatTensor(gensim_model.wv.vectors)\n",
    "\n",
    "\n",
    "def tokenize_function(examples):\n",
    "    review_tokenized = []\n",
    "    all_parsed = 0\n",
    "    unknows = 0\n",
    "    for word in examples.split():\n",
    "        all_parsed += 1\n",
    "        try:\n",
    "            review_tokenized.append(tokenizer[word.lower()])\n",
    "        except:\n",
    "            unknows += 1\n",
    "    return review_tokenized"
   ]
  },
  {
   "cell_type": "code",
   "execution_count": 5,
   "metadata": {},
   "outputs": [],
   "source": [
    "def pad_collate(batch):\n",
    "    xx, yy = zip(*batch)\n",
    "    x_lens = [len(x) - 1 for x in xx]\n",
    "\n",
    "    xx_pad = pad_sequence(xx, batch_first=True, padding_value=0)\n",
    "    yy = torch.stack(yy)\n",
    "    return xx_pad, yy, x_lens"
   ]
  },
  {
   "cell_type": "markdown",
   "metadata": {},
   "source": [
    "## Poem Dataset"
   ]
  },
  {
   "cell_type": "code",
   "execution_count": 6,
   "metadata": {},
   "outputs": [],
   "source": [
    "train_dataset, validation_dataset, test_dataset = get_poem_sentiment_dataset(\n",
    "    tokenize_function\n",
    ")\n",
    "\n",
    "validation_loader = torch.utils.data.DataLoader(\n",
    "    validation_dataset, batch_size=32, shuffle=False, collate_fn=pad_collate\n",
    ")\n",
    "test_loader = torch.utils.data.DataLoader(\n",
    "    test_dataset, batch_size=32, shuffle=False, collate_fn=pad_collate\n",
    ")\n",
    "train_loader = torch.utils.data.DataLoader(\n",
    "    train_dataset, batch_size=BATCH_SIZE, shuffle=True, collate_fn=pad_collate\n",
    ")"
   ]
  },
  {
   "cell_type": "markdown",
   "metadata": {},
   "source": [
    "# Model"
   ]
  },
  {
   "cell_type": "code",
   "execution_count": 7,
   "metadata": {},
   "outputs": [],
   "source": [
    "class LstmSentimentClasifier(nn.Module):\n",
    "    def __init__(\n",
    "        self,\n",
    "        embedding_dim,\n",
    "        hidden_size,\n",
    "        num_of_rnn_layers,\n",
    "        out_size,\n",
    "        emb_weights,\n",
    "        bidirectional=False,\n",
    "    ):\n",
    "        super().__init__()\n",
    "        self.num_of_rnn_layers = num_of_rnn_layers\n",
    "        self.hidden_size = hidden_size\n",
    "        if bidirectional:\n",
    "            self.bidirectional = 2\n",
    "        else:\n",
    "            self.bidirectional = 1\n",
    "        self.embeddings = nn.Embedding.from_pretrained(emb_weights)\n",
    "        self.embeddings.requires_grad = False\n",
    "        self.lstm = nn.LSTM(\n",
    "            input_size=embedding_dim,\n",
    "            hidden_size=hidden_size,\n",
    "            num_layers=num_of_rnn_layers,\n",
    "            bidirectional=bidirectional,\n",
    "            batch_first=False,\n",
    "        )\n",
    "        self.fc = nn.Linear(hidden_size * self.bidirectional, out_size)\n",
    "\n",
    "    def init_hidden(self, batch_size):\n",
    "        hidden = torch.zeros(\n",
    "            self.num_of_rnn_layers * self.bidirectional, batch_size, self.hidden_size\n",
    "        )\n",
    "        state = torch.zeros(\n",
    "            self.num_of_rnn_layers * self.bidirectional, batch_size, self.hidden_size\n",
    "        )\n",
    "        return hidden, state\n",
    "\n",
    "    def forward(self, x, len_x, hidden):\n",
    "        x = self.embeddings(x)\n",
    "        x = torch.transpose(x, 0, 1)\n",
    "        all_outputs, hidden = self.lstm(x, hidden)\n",
    "        all_outputs = torch.transpose(all_outputs, 0, 1)\n",
    "        last_seq_items = all_outputs[range(all_outputs.shape[0]), len_x]\n",
    "        out = last_seq_items\n",
    "        x = self.fc(out)\n",
    "        return x, hidden"
   ]
  },
  {
   "cell_type": "code",
   "execution_count": 6,
   "metadata": {},
   "outputs": [],
   "source": [
    "class GruSentimentClasifier(nn.Module):\n",
    "    def __init__(\n",
    "        self,\n",
    "        embedding_dim,\n",
    "        hidden_size,\n",
    "        num_of_rnn_layers,\n",
    "        out_size,\n",
    "        emb_weights,\n",
    "        bidirectional=False,\n",
    "    ):\n",
    "        super().__init__()\n",
    "        self.num_of_rnn_layers = num_of_rnn_layers\n",
    "        self.hidden_size = hidden_size\n",
    "        if bidirectional:\n",
    "            self.bidirectional = 2\n",
    "        else:\n",
    "            self.bidirectional = 1\n",
    "        self.embeddings = nn.Embedding.from_pretrained(emb_weights)\n",
    "        self.embeddings.requires_grad = False\n",
    "        self.gru = nn.GRU(\n",
    "            input_size=embedding_dim,\n",
    "            hidden_size=hidden_size,\n",
    "            num_layers=num_of_rnn_layers,\n",
    "            bidirectional=bidirectional,\n",
    "            batch_first=False,\n",
    "        )\n",
    "        self.fc = nn.Linear(hidden_size * self.bidirectional, out_size)\n",
    "\n",
    "    def init_hidden(self, batch_size):\n",
    "        hidden = torch.zeros(\n",
    "            self.num_of_rnn_layers * self.bidirectional, batch_size, self.hidden_size\n",
    "        )\n",
    "        state = torch.zeros(\n",
    "            self.num_of_rnn_layers * self.bidirectional, batch_size, self.hidden_size\n",
    "        )\n",
    "        return hidden, state\n",
    "\n",
    "    def forward(self, x, len_x, hidden):\n",
    "        x = self.embeddings(x)\n",
    "        x = torch.transpose(x, 0, 1)\n",
    "        all_outputs, hidden = self.gru(x, hidden)\n",
    "        all_outputs = torch.transpose(all_outputs, 0, 1)\n",
    "        last_seq_items = all_outputs[range(all_outputs.shape[0]), len_x]\n",
    "        out = last_seq_items\n",
    "        x = self.fc(out)\n",
    "        return x, hidden"
   ]
  },
  {
   "cell_type": "markdown",
   "metadata": {},
   "source": [
    "# Training"
   ]
  },
  {
   "cell_type": "code",
   "execution_count": 8,
   "metadata": {},
   "outputs": [
    {
     "name": "stderr",
     "output_type": "stream",
     "text": [
      "Epoch: 100%|██████████| 25/25 [00:01<00:00, 17.45it/s, Train loss=0.35] \n"
     ]
    }
   ],
   "source": [
    "model = LstmSentimentClasifier(100, 64, 2, 4, emb_weights, bidirectional=True).to(\n",
    "    device\n",
    ")\n",
    "\n",
    "optimizer = torch.optim.Adam(model.parameters(), lr=0.0005)\n",
    "weights = torch.tensor([1.5, 1.5, 0.8, 2.0]).to(device)\n",
    "loss_fun = nn.CrossEntropyLoss(weight=weights)\n",
    "model.train()\n",
    "\n",
    "EPOCHS = 25\n",
    "\n",
    "progress_bar = tqdm.tqdm(range(EPOCHS), total=EPOCHS, desc=\"Epoch\")\n",
    "\n",
    "for epoch in progress_bar:\n",
    "    losses = 0\n",
    "    batches = 0\n",
    "    for x, targets, len_x in train_loader:\n",
    "        x = x.to(device)\n",
    "        targets = targets.to(device)\n",
    "        hidden, state = model.init_hidden(x.size(0))\n",
    "        hidden, state = hidden.to(device), state.to(device)\n",
    "        preds, _ = model(x, len_x, (hidden, state))\n",
    "        preds = preds.squeeze(1)\n",
    "        optimizer.zero_grad()\n",
    "        loss = loss_fun(preds, targets)\n",
    "        loss.backward()\n",
    "        optimizer.step()\n",
    "        losses += loss.item()\n",
    "        batches += 1\n",
    "    progress_bar.set_postfix({\"Train loss\": losses / batches})"
   ]
  },
  {
   "cell_type": "markdown",
   "metadata": {},
   "source": [
    "## Measure accuracy"
   ]
  },
  {
   "cell_type": "code",
   "execution_count": 9,
   "metadata": {},
   "outputs": [
    {
     "name": "stdout",
     "output_type": "stream",
     "text": [
      "F1 Score 0.31715911020546783\n",
      "Accuracy 0.6285714285714286\n",
      "Recall 0.30896935433212186\n"
     ]
    },
    {
     "name": "stderr",
     "output_type": "stream",
     "text": [
      "/home/mikic202/miniconda3/envs/pt/lib/python3.11/site-packages/sklearn/metrics/_classification.py:1509: UndefinedMetricWarning: Recall is ill-defined and being set to 0.0 in labels with no true samples. Use `zero_division` parameter to control this behavior.\n",
      "  _warn_prf(average, modifier, f\"{metric.capitalize()} is\", len(result))\n"
     ]
    },
    {
     "data": {
      "image/png": "[encoded data removed]",
      "text/plain": [
       "<Figure size 640x480 with 2 Axes>"
      ]
     },
     "metadata": {},
     "output_type": "display_data"
    }
   ],
   "source": [
    "total_preds = torch.tensor([]).to(device)\n",
    "total_targets = torch.tensor([]).to(device)\n",
    "\n",
    "model.eval()\n",
    "\n",
    "for x, targets, len_x in validation_loader:\n",
    "    x = x.to(device)\n",
    "    targets = targets.to(device)\n",
    "    hidden, state = model.init_hidden(x.size(0))\n",
    "    hidden, state = hidden.to(device), state.to(device)\n",
    "    preds, _ = model(x, len_x, (hidden, state))\n",
    "    preds = preds.squeeze(1)\n",
    "    total_preds = torch.cat((total_preds, preds.argmax(1)), 0)\n",
    "    total_targets = torch.cat((total_targets, targets), 0)\n",
    "\n",
    "display_clasification_metrics(total_preds.cpu(), total_targets.cpu())"
   ]
  }
 ],
 "metadata": {
  "kernelspec": {
   "display_name": "pt",
   "language": "python",
   "name": "python3"
  },
  "language_info": {
   "codemirror_mode": {
    "name": "ipython",
    "version": 3
   },
   "file_extension": ".py",
   "mimetype": "text/x-python",
   "name": "python",
   "nbconvert_exporter": "python",
   "pygments_lexer": "ipython3",
   "version": "3.11.8"
  }
 },
 "nbformat": 4,
 "nbformat_minor": 2
}
